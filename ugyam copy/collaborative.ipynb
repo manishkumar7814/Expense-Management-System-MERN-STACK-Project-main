{
 "cells": [
  {
   "cell_type": "code",
   "execution_count": 3,
   "id": "270a7eab",
   "metadata": {},
   "outputs": [
    {
     "ename": "TypeError",
     "evalue": "unhashable type: 'Series'",
     "output_type": "error",
     "traceback": [
      "\u001b[0;31m---------------------------------------------------------------------------\u001b[0m",
      "\u001b[0;31mTypeError\u001b[0m                                 Traceback (most recent call last)",
      "\u001b[0;32m/var/folders/kk/4lq_df0j7dd98flcw7vpg2kh0000gn/T/ipykernel_24223/225760595.py\u001b[0m in \u001b[0;36m<module>\u001b[0;34m\u001b[0m\n\u001b[1;32m     13\u001b[0m \u001b[0;34m\u001b[0m\u001b[0m\n\u001b[1;32m     14\u001b[0m \u001b[0;31m# Create a dictionary to hold the ratings\u001b[0m\u001b[0;34m\u001b[0m\u001b[0;34m\u001b[0m\u001b[0m\n\u001b[0;32m---> 15\u001b[0;31m ratings = {\n\u001b[0m\u001b[1;32m     16\u001b[0m     \u001b[0muser\u001b[0m\u001b[0;34m:\u001b[0m\u001b[0mitems\u001b[0m\u001b[0;34m\u001b[0m\u001b[0;34m\u001b[0m\u001b[0m\n\u001b[1;32m     17\u001b[0m }\n",
      "\u001b[0;31mTypeError\u001b[0m: unhashable type: 'Series'"
     ]
    }
   ],
   "source": [
    "import pandas as pd\n",
    "import numpy as np\n",
    "\n",
    "\n",
    "# Create a list of users\n",
    "users =pd.read_csv('users.csv')\n",
    "user=users['user_id']\n",
    "\n",
    "# Create a list of items\n",
    "#items = ['Item1', 'Item2', 'Item3', 'Item4', 'Item5']\n",
    "decoration= pd.read_csv('decoration.csv')\n",
    "items=decoration['Rating']\n",
    "\n",
    "# Create a dictionary to hold the ratings\n",
    "ratings = {\n",
    "    user:items\n",
    "}\n",
    "\n",
    "# Convert the dictionary to a DataFrame\n",
    "df = pd.DataFrame(ratings, index=items)\n",
    "\n",
    "# Fill any missing values with 0\n",
    "df.fillna(0, inplace=True)\n",
    "\n",
    "# Print the DataFrame\n",
    "print(df)\n"
   ]
  },
  {
   "cell_type": "code",
   "execution_count": null,
   "id": "067781e6",
   "metadata": {},
   "outputs": [],
   "source": []
  }
 ],
 "metadata": {
  "kernelspec": {
   "display_name": "Python 3 (ipykernel)",
   "language": "python",
   "name": "python3"
  },
  "language_info": {
   "codemirror_mode": {
    "name": "ipython",
    "version": 3
   },
   "file_extension": ".py",
   "mimetype": "text/x-python",
   "name": "python",
   "nbconvert_exporter": "python",
   "pygments_lexer": "ipython3",
   "version": "3.9.7"
  }
 },
 "nbformat": 4,
 "nbformat_minor": 5
}
