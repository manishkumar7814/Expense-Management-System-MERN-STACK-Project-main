{
 "cells": [
  {
   "cell_type": "code",
   "execution_count": 3,
   "id": "172ab6f5",
   "metadata": {},
   "outputs": [],
   "source": [
    "import pickle\n",
    "import numpy as np\n",
    "\n",
    "# Load the trained machine learning model\n",
    "with open('events.pkl', 'rb') as file:\n",
    "    model = pickle.load(file)\n",
    "\n",
    "# Define a function to process input data and return predictions\n",
    "def predict(data):\n",
    "    # Convert input data to a numpy array\n",
    "    input_data = np.array(data).reshape(1, -1)\n",
    "\n",
    "    # Make predictions using the loaded model\n",
    "    prediction = model.predict(input_data)\n",
    "\n",
    "    return prediction.tolist()\n",
    "\n",
    "from flask import Flask, request, jsonify\n",
    "\n",
    "app = Flask(__name__)\n",
    "\n",
    "@app.route('/predict', methods=['POST'])\n",
    "def predict_endpoint():\n",
    "    # Get the input data from the request body\n",
    "    data = request.get_json(force=True)\n",
    "\n",
    "    # Make predictions using the machine learning model\n",
    "    prediction = predict(data)\n",
    "\n",
    "    # Return the predictions as a JSON response\n",
    "    return jsonify(prediction=prediction)\n",
    "\n"
   ]
  },
  {
   "cell_type": "code",
   "execution_count": null,
   "id": "4f7496fd",
   "metadata": {},
   "outputs": [],
   "source": []
  },
  {
   "cell_type": "code",
   "execution_count": null,
   "id": "5f650e37",
   "metadata": {},
   "outputs": [],
   "source": []
  }
 ],
 "metadata": {
  "kernelspec": {
   "display_name": "Python 3 (ipykernel)",
   "language": "python",
   "name": "python3"
  },
  "language_info": {
   "codemirror_mode": {
    "name": "ipython",
    "version": 3
   },
   "file_extension": ".py",
   "mimetype": "text/x-python",
   "name": "python",
   "nbconvert_exporter": "python",
   "pygments_lexer": "ipython3",
   "version": "3.9.7"
  }
 },
 "nbformat": 4,
 "nbformat_minor": 5
}
